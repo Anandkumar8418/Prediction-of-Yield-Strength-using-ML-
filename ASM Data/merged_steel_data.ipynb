{
 "cells": [
  {
   "cell_type": "code",
   "execution_count": 22,
   "metadata": {},
   "outputs": [],
   "source": [
    "import pandas as pd\n",
    "df = pd.read_csv(\"merged_steel_data.csv\")"
   ]
  },
  {
   "cell_type": "code",
   "execution_count": 23,
   "metadata": {},
   "outputs": [
    {
     "data": {
      "text/html": [
       "<div>\n",
       "<style scoped>\n",
       "    .dataframe tbody tr th:only-of-type {\n",
       "        vertical-align: middle;\n",
       "    }\n",
       "\n",
       "    .dataframe tbody tr th {\n",
       "        vertical-align: top;\n",
       "    }\n",
       "\n",
       "    .dataframe thead th {\n",
       "        text-align: right;\n",
       "    }\n",
       "</style>\n",
       "<table border=\"1\" class=\"dataframe\">\n",
       "  <thead>\n",
       "    <tr style=\"text-align: right;\">\n",
       "      <th></th>\n",
       "      <th>Grade</th>\n",
       "      <th>Tensile Strength (MPa)</th>\n",
       "      <th>Yield Strength (MPa)</th>\n",
       "      <th>Elongation in 50 mm (%)</th>\n",
       "      <th>Reduction in Area (%)</th>\n",
       "      <th>HV (GPa)</th>\n",
       "    </tr>\n",
       "  </thead>\n",
       "  <tbody>\n",
       "    <tr>\n",
       "      <th>0</th>\n",
       "      <td>347</td>\n",
       "      <td>655.0</td>\n",
       "      <td>275.0</td>\n",
       "      <td>45.0</td>\n",
       "      <td>...</td>\n",
       "      <td>9.203853</td>\n",
       "    </tr>\n",
       "    <tr>\n",
       "      <th>1</th>\n",
       "      <td>347</td>\n",
       "      <td>620.0</td>\n",
       "      <td>240.0</td>\n",
       "      <td>50.0</td>\n",
       "      <td>65</td>\n",
       "      <td>15.494393</td>\n",
       "    </tr>\n",
       "    <tr>\n",
       "      <th>2</th>\n",
       "      <td>384</td>\n",
       "      <td>690.0</td>\n",
       "      <td>450.0</td>\n",
       "      <td>40.0</td>\n",
       "      <td>60</td>\n",
       "      <td>20.530071</td>\n",
       "    </tr>\n",
       "    <tr>\n",
       "      <th>3</th>\n",
       "      <td>384</td>\n",
       "      <td>515.0</td>\n",
       "      <td>240.0</td>\n",
       "      <td>55.0</td>\n",
       "      <td>72</td>\n",
       "      <td>7.786422</td>\n",
       "    </tr>\n",
       "    <tr>\n",
       "      <th>4</th>\n",
       "      <td>304</td>\n",
       "      <td>585.0</td>\n",
       "      <td>235.0</td>\n",
       "      <td>60.0</td>\n",
       "      <td>70</td>\n",
       "      <td>14.429154</td>\n",
       "    </tr>\n",
       "  </tbody>\n",
       "</table>\n",
       "</div>"
      ],
      "text/plain": [
       "  Grade  Tensile Strength (MPa)  Yield Strength (MPa) Elongation in 50 mm (%)  \\\n",
       "0   347                   655.0                 275.0                    45.0   \n",
       "1   347                   620.0                 240.0                    50.0   \n",
       "2   384                   690.0                 450.0                    40.0   \n",
       "3   384                   515.0                 240.0                    55.0   \n",
       "4   304                   585.0                 235.0                    60.0   \n",
       "\n",
       "  Reduction in Area (%)   HV (GPa)  \n",
       "0                   ...   9.203853  \n",
       "1                    65  15.494393  \n",
       "2                    60  20.530071  \n",
       "3                    72   7.786422  \n",
       "4                    70  14.429154  "
      ]
     },
     "execution_count": 23,
     "metadata": {},
     "output_type": "execute_result"
    }
   ],
   "source": [
    "df.head()"
   ]
  },
  {
   "cell_type": "code",
   "execution_count": 15,
   "metadata": {},
   "outputs": [],
   "source": []
  },
  {
   "cell_type": "code",
   "execution_count": 24,
   "metadata": {},
   "outputs": [],
   "source": [
    "mean_reduction_area = round(df[df[\"Reduction in Area (%)\"] != \"...\"][\"Reduction in Area (%)\"].astype(float).mean(), 1)\n",
    "df[\"Reduction in Area (%)\"] = df[\"Reduction in Area (%)\"].replace(\"...\", mean_reduction_area).astype(float)"
   ]
  },
  {
   "cell_type": "code",
   "execution_count": 25,
   "metadata": {},
   "outputs": [],
   "source": [
    "df.to_csv(\"merged_steel_data_cleaned.csv\", index=False)"
   ]
  },
  {
   "cell_type": "code",
   "execution_count": null,
   "metadata": {},
   "outputs": [],
   "source": []
  }
 ],
 "metadata": {
  "kernelspec": {
   "display_name": "Python-mediapipe-0-10-9",
   "language": "python",
   "name": "python3"
  },
  "language_info": {
   "codemirror_mode": {
    "name": "ipython",
    "version": 3
   },
   "file_extension": ".py",
   "mimetype": "text/x-python",
   "name": "python",
   "nbconvert_exporter": "python",
   "pygments_lexer": "ipython3",
   "version": "3.12.4"
  }
 },
 "nbformat": 4,
 "nbformat_minor": 2
}
