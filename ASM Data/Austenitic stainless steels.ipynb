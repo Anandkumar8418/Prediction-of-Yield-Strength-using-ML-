{
 "cells": [
  {
   "cell_type": "code",
   "execution_count": 13,
   "metadata": {},
   "outputs": [],
   "source": [
    "import pandas as pd"
   ]
  },
  {
   "cell_type": "code",
   "execution_count": 14,
   "metadata": {},
   "outputs": [
    {
     "data": {
      "text/html": [
       "<div>\n",
       "<style scoped>\n",
       "    .dataframe tbody tr th:only-of-type {\n",
       "        vertical-align: middle;\n",
       "    }\n",
       "\n",
       "    .dataframe tbody tr th {\n",
       "        vertical-align: top;\n",
       "    }\n",
       "\n",
       "    .dataframe thead th {\n",
       "        text-align: right;\n",
       "    }\n",
       "</style>\n",
       "<table border=\"1\" class=\"dataframe\">\n",
       "  <thead>\n",
       "    <tr style=\"text-align: right;\">\n",
       "      <th></th>\n",
       "      <th>Steel Condition</th>\n",
       "      <th>Tensile Strength (MPa)</th>\n",
       "      <th>Tensile Strength (ksi)</th>\n",
       "      <th>Yield Strength (MPa)</th>\n",
       "      <th>Yield Strength (ksi)</th>\n",
       "      <th>Elongation in 50 mm (%)</th>\n",
       "      <th>Reduction in Area (%)</th>\n",
       "      <th>Hardness (HB)</th>\n",
       "    </tr>\n",
       "  </thead>\n",
       "  <tbody>\n",
       "    <tr>\n",
       "      <th>0</th>\n",
       "      <td>347 Annealed sheet</td>\n",
       "      <td>655</td>\n",
       "      <td>95</td>\n",
       "      <td>275</td>\n",
       "      <td>40</td>\n",
       "      <td>45</td>\n",
       "      <td>...</td>\n",
       "      <td>85 HRB</td>\n",
       "    </tr>\n",
       "    <tr>\n",
       "      <th>1</th>\n",
       "      <td>347 Annealed bar</td>\n",
       "      <td>620</td>\n",
       "      <td>90</td>\n",
       "      <td>240</td>\n",
       "      <td>35</td>\n",
       "      <td>50</td>\n",
       "      <td>65</td>\n",
       "      <td>160</td>\n",
       "    </tr>\n",
       "    <tr>\n",
       "      <th>2</th>\n",
       "      <td>384 Annealed and cold drawn bar</td>\n",
       "      <td>690</td>\n",
       "      <td>100</td>\n",
       "      <td>450</td>\n",
       "      <td>65</td>\n",
       "      <td>40</td>\n",
       "      <td>60</td>\n",
       "      <td>212</td>\n",
       "    </tr>\n",
       "    <tr>\n",
       "      <th>3</th>\n",
       "      <td>384 Annealed wire 1040 °C (1900 °F)</td>\n",
       "      <td>515</td>\n",
       "      <td>75</td>\n",
       "      <td>240</td>\n",
       "      <td>35</td>\n",
       "      <td>55</td>\n",
       "      <td>72</td>\n",
       "      <td>70 HRB</td>\n",
       "    </tr>\n",
       "    <tr>\n",
       "      <th>4</th>\n",
       "      <td>304 Annealed bar</td>\n",
       "      <td>585</td>\n",
       "      <td>85</td>\n",
       "      <td>235</td>\n",
       "      <td>34</td>\n",
       "      <td>60</td>\n",
       "      <td>70</td>\n",
       "      <td>149</td>\n",
       "    </tr>\n",
       "  </tbody>\n",
       "</table>\n",
       "</div>"
      ],
      "text/plain": [
       "                       Steel Condition  Tensile Strength (MPa)  \\\n",
       "0                   347 Annealed sheet                     655   \n",
       "1                     347 Annealed bar                     620   \n",
       "2      384 Annealed and cold drawn bar                     690   \n",
       "3  384 Annealed wire 1040 °C (1900 °F)                     515   \n",
       "4                     304 Annealed bar                     585   \n",
       "\n",
       "   Tensile Strength (ksi)  Yield Strength (MPa)  Yield Strength (ksi)  \\\n",
       "0                      95                   275                    40   \n",
       "1                      90                   240                    35   \n",
       "2                     100                   450                    65   \n",
       "3                      75                   240                    35   \n",
       "4                      85                   235                    34   \n",
       "\n",
       "   Elongation in 50 mm (%) Reduction in Area (%) Hardness (HB)  \n",
       "0                       45                   ...        85 HRB  \n",
       "1                       50                    65           160  \n",
       "2                       40                    60           212  \n",
       "3                       55                    72        70 HRB  \n",
       "4                       60                    70           149  "
      ]
     },
     "execution_count": 14,
     "metadata": {},
     "output_type": "execute_result"
    }
   ],
   "source": [
    "df = pd.read_csv(\"Austenitic stainless steels(315).csv\")\n",
    "df.head()"
   ]
  },
  {
   "cell_type": "code",
   "execution_count": 15,
   "metadata": {},
   "outputs": [
    {
     "data": {
      "text/html": [
       "<div>\n",
       "<style scoped>\n",
       "    .dataframe tbody tr th:only-of-type {\n",
       "        vertical-align: middle;\n",
       "    }\n",
       "\n",
       "    .dataframe tbody tr th {\n",
       "        vertical-align: top;\n",
       "    }\n",
       "\n",
       "    .dataframe thead th {\n",
       "        text-align: right;\n",
       "    }\n",
       "</style>\n",
       "<table border=\"1\" class=\"dataframe\">\n",
       "  <thead>\n",
       "    <tr style=\"text-align: right;\">\n",
       "      <th></th>\n",
       "      <th>Steel Condition</th>\n",
       "      <th>Tensile Strength (MPa)</th>\n",
       "      <th>Tensile Strength (ksi)</th>\n",
       "      <th>Yield Strength (MPa)</th>\n",
       "      <th>Yield Strength (ksi)</th>\n",
       "      <th>Elongation in 50 mm (%)</th>\n",
       "      <th>Reduction in Area (%)</th>\n",
       "      <th>Hardness (HB)</th>\n",
       "      <th>YS/TS Ratio</th>\n",
       "    </tr>\n",
       "  </thead>\n",
       "  <tbody>\n",
       "    <tr>\n",
       "      <th>0</th>\n",
       "      <td>347 Annealed sheet</td>\n",
       "      <td>655</td>\n",
       "      <td>95</td>\n",
       "      <td>275</td>\n",
       "      <td>40</td>\n",
       "      <td>45</td>\n",
       "      <td>...</td>\n",
       "      <td>85 HRB</td>\n",
       "      <td>0.419847</td>\n",
       "    </tr>\n",
       "    <tr>\n",
       "      <th>1</th>\n",
       "      <td>347 Annealed bar</td>\n",
       "      <td>620</td>\n",
       "      <td>90</td>\n",
       "      <td>240</td>\n",
       "      <td>35</td>\n",
       "      <td>50</td>\n",
       "      <td>65</td>\n",
       "      <td>160</td>\n",
       "      <td>0.387097</td>\n",
       "    </tr>\n",
       "    <tr>\n",
       "      <th>2</th>\n",
       "      <td>384 Annealed and cold drawn bar</td>\n",
       "      <td>690</td>\n",
       "      <td>100</td>\n",
       "      <td>450</td>\n",
       "      <td>65</td>\n",
       "      <td>40</td>\n",
       "      <td>60</td>\n",
       "      <td>212</td>\n",
       "      <td>0.652174</td>\n",
       "    </tr>\n",
       "    <tr>\n",
       "      <th>3</th>\n",
       "      <td>384 Annealed wire 1040 °C (1900 °F)</td>\n",
       "      <td>515</td>\n",
       "      <td>75</td>\n",
       "      <td>240</td>\n",
       "      <td>35</td>\n",
       "      <td>55</td>\n",
       "      <td>72</td>\n",
       "      <td>70 HRB</td>\n",
       "      <td>0.466019</td>\n",
       "    </tr>\n",
       "    <tr>\n",
       "      <th>4</th>\n",
       "      <td>304 Annealed bar</td>\n",
       "      <td>585</td>\n",
       "      <td>85</td>\n",
       "      <td>235</td>\n",
       "      <td>34</td>\n",
       "      <td>60</td>\n",
       "      <td>70</td>\n",
       "      <td>149</td>\n",
       "      <td>0.401709</td>\n",
       "    </tr>\n",
       "  </tbody>\n",
       "</table>\n",
       "</div>"
      ],
      "text/plain": [
       "                       Steel Condition  Tensile Strength (MPa)  \\\n",
       "0                   347 Annealed sheet                     655   \n",
       "1                     347 Annealed bar                     620   \n",
       "2      384 Annealed and cold drawn bar                     690   \n",
       "3  384 Annealed wire 1040 °C (1900 °F)                     515   \n",
       "4                     304 Annealed bar                     585   \n",
       "\n",
       "   Tensile Strength (ksi)  Yield Strength (MPa)  Yield Strength (ksi)  \\\n",
       "0                      95                   275                    40   \n",
       "1                      90                   240                    35   \n",
       "2                     100                   450                    65   \n",
       "3                      75                   240                    35   \n",
       "4                      85                   235                    34   \n",
       "\n",
       "   Elongation in 50 mm (%) Reduction in Area (%) Hardness (HB)  YS/TS Ratio  \n",
       "0                       45                   ...        85 HRB     0.419847  \n",
       "1                       50                    65           160     0.387097  \n",
       "2                       40                    60           212     0.652174  \n",
       "3                       55                    72        70 HRB     0.466019  \n",
       "4                       60                    70           149     0.401709  "
      ]
     },
     "execution_count": 15,
     "metadata": {},
     "output_type": "execute_result"
    }
   ],
   "source": [
    "df['YS/TS Ratio'] = df['Yield Strength (MPa)'] / df['Tensile Strength (MPa)']\n",
    "df.head()"
   ]
  },
  {
   "cell_type": "code",
   "execution_count": 16,
   "metadata": {},
   "outputs": [
    {
     "data": {
      "text/plain": [
       "<Axes: title={'center': 'YS/TS Ratio vs Hardness'}, xlabel='Hardness (HB)', ylabel='YS/TS Ratio'>"
      ]
     },
     "execution_count": 16,
     "metadata": {},
     "output_type": "execute_result"
    },
    {
     "data": {
      "image/png": "[encoded data removed]",
      "text/plain": [
       "<Figure size 640x480 with 1 Axes>"
      ]
     },
     "metadata": {},
     "output_type": "display_data"
    }
   ],
   "source": [
    "\n",
    "df['Hardness (HB)'] = pd.to_numeric(df['Hardness (HB)'], errors='coerce')\n",
    "df_cleaned = df.dropna(subset=['Hardness (HB)', 'YS/TS Ratio'])\n",
    "df_cleaned.plot(x='Hardness (HB)', y='YS/TS Ratio', kind='scatter', title='YS/TS Ratio vs Hardness')"
   ]
  },
  {
   "cell_type": "code",
   "execution_count": 23,
   "metadata": {},
   "outputs": [
    {
     "name": "stderr",
     "output_type": "stream",
     "text": [
      "/opt/anaconda3/envs/Python-mediapipe-0-10-9/lib/python3.12/site-packages/keras/src/layers/core/dense.py:87: UserWarning: Do not pass an `input_shape`/`input_dim` argument to a layer. When using Sequential models, prefer using an `Input(shape)` object as the first layer in the model instead.\n",
      "  super().__init__(activity_regularizer=activity_regularizer, **kwargs)\n"
     ]
    }
   ],
   "source": [
    "import tensorflow as tf\n",
    "from sklearn.model_selection import train_test_split\n",
    "from sklearn.metrics import mean_squared_error, r2_score\n",
    "import numpy as np\n",
    "\n",
    "# Prepare the data\n",
    "X = df_cleaned[['Yield Strength (MPa)', 'YS/TS Ratio', 'Tensile Strength (MPa)']].values\n",
    "y = df_cleaned['Hardness (HB)'].values\n",
    "\n",
    "# Split the data into training and testing sets\n",
    "X_train, X_test, y_train, y_test = train_test_split(X, y, test_size=0.2, random_state=42)\n",
    "\n",
    "# Build the neural network model\n",
    "model = tf.keras.Sequential([\n",
    "    tf.keras.layers.Dense(64, activation='relu', input_shape=(X_train.shape[1],)),\n",
    "    tf.keras.layers.Dense(64, activation='relu'),\n",
    "    tf.keras.layers.Dense(64, activation='relu'),\n",
    "    tf.keras.layers.Dense(64, activation='relu'),\n",
    "    tf.keras.layers.Dense(32, activation='relu'),\n",
    "    tf.keras.layers.Dense(32, activation='relu'),\n",
    "    tf.keras.layers.Dense(32, activation='relu'),\n",
    "    tf.keras.layers.Dense(1)  # Output layer\n",
    "])\n",
    "\n",
    "# Compile the model\n",
    "model.compile(optimizer='adam', loss='mse')\n"
   ]
  },
  {
   "cell_type": "code",
   "execution_count": 24,
   "metadata": {},
   "outputs": [],
   "source": [
    "\n",
    "# Train the model\n",
    "history = model.fit(X_train, y_train, epochs=300, batch_size=8, verbose=0)\n"
   ]
  },
  {
   "cell_type": "code",
   "execution_count": 25,
   "metadata": {},
   "outputs": [
    {
     "data": {
      "image/png": "[encoded data removed]",
      "text/plain": [
       "<Figure size 640x480 with 1 Axes>"
      ]
     },
     "metadata": {},
     "output_type": "display_data"
    }
   ],
   "source": [
    "import matplotlib.pyplot as plt\n",
    "\n",
    "# Plot training loss\n",
    "plt.plot(history.history['loss'], label='Training Loss')\n",
    "plt.xlabel('Epochs')\n",
    "plt.ylabel('Loss')\n",
    "plt.title('Model Training Loss Over Epochs')\n",
    "plt.legend()\n",
    "plt.show()"
   ]
  },
  {
   "cell_type": "code",
   "execution_count": 26,
   "metadata": {},
   "outputs": [
    {
     "name": "stdout",
     "output_type": "stream",
     "text": [
      "\u001b[1m1/1\u001b[0m \u001b[32m━━━━━━━━━━━━━━━━━━━━\u001b[0m\u001b[37m\u001b[0m \u001b[1m0s\u001b[0m 66ms/step\n",
      "Mean Squared Error (MSE): 20.779122513195034\n",
      "R-squared (R²): 0.9648258611710622\n"
     ]
    }
   ],
   "source": [
    "\n",
    "# Predict on the test set\n",
    "y_pred = model.predict(X_test).flatten()\n",
    "\n",
    "# Compute MSE\n",
    "mse = mean_squared_error(y_test, y_pred)\n",
    "\n",
    "# Compute R-squared\n",
    "r2 = r2_score(y_test, y_pred)\n",
    "\n",
    "print(f\"Mean Squared Error (MSE): {mse}\")\n",
    "print(f\"R-squared (R²): {r2}\")"
   ]
  },
  {
   "cell_type": "code",
   "execution_count": 28,
   "metadata": {},
   "outputs": [
    {
     "name": "stdout",
     "output_type": "stream",
     "text": [
      "WARNING:tensorflow:5 out of the last 6 calls to <function TensorFlowTrainer.make_predict_function.<locals>.one_step_on_data_distributed at 0x307101940> triggered tf.function retracing. Tracing is expensive and the excessive number of tracings could be due to (1) creating @tf.function repeatedly in a loop, (2) passing tensors with different shapes, (3) passing Python objects instead of tensors. For (1), please define your @tf.function outside of the loop. For (2), @tf.function has reduce_retracing=True option that can avoid unnecessary retracing. For (3), please refer to https://www.tensorflow.org/guide/function#controlling_retracing and https://www.tensorflow.org/api_docs/python/tf/function for  more details.\n",
      "\u001b[1m1/1\u001b[0m \u001b[32m━━━━━━━━━━━━━━━━━━━━\u001b[0m\u001b[37m\u001b[0m \u001b[1m0s\u001b[0m 74ms/step\n",
      "R-squared (R²) for Training Data: 0.9443412380611779\n"
     ]
    }
   ],
   "source": [
    "# Predict on the training set\n",
    "y_train_pred = model.predict(X_train).flatten()\n",
    "\n",
    "# Compute R-squared for training data\n",
    "r2_train = r2_score(y_train, y_train_pred)\n",
    "\n",
    "print(f\"R-squared (R²) for Training Data: {r2_train}\")"
   ]
  },
  {
   "cell_type": "code",
   "execution_count": 27,
   "metadata": {},
   "outputs": [
    {
     "name": "stdout",
     "output_type": "stream",
     "text": [
      "R-squared (R²) for Random Forest: 0.9832843372360934\n"
     ]
    }
   ],
   "source": [
    "from sklearn.ensemble import RandomForestRegressor\n",
    "\n",
    "# Initialize the Random Forest Regressor\n",
    "rf_model = RandomForestRegressor(n_estimators=100, random_state=42)\n",
    "\n",
    "# Train the model\n",
    "rf_model.fit(X_train, y_train)\n",
    "\n",
    "# Predict on the test set\n",
    "y_rf_pred = rf_model.predict(X_test)\n",
    "\n",
    "# Compute R-squared\n",
    "r2_rf = r2_score(y_test, y_rf_pred)\n",
    "\n",
    "print(f\"R-squared (R²) for Random Forest: {r2_rf}\")"
   ]
  },
  {
   "cell_type": "code",
   "execution_count": null,
   "metadata": {},
   "outputs": [],
   "source": []
  }
 ],
 "metadata": {
  "kernelspec": {
   "display_name": "Python-mediapipe-0-10-9",
   "language": "python",
   "name": "python3"
  },
  "language_info": {
   "codemirror_mode": {
    "name": "ipython",
    "version": 3
   },
   "file_extension": ".py",
   "mimetype": "text/x-python",
   "name": "python",
   "nbconvert_exporter": "python",
   "pygments_lexer": "ipython3",
   "version": "3.12.4"
  }
 },
 "nbformat": 4,
 "nbformat_minor": 2
}
