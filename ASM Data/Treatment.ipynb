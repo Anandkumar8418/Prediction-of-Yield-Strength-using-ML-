{
 "cells": [
  {
   "cell_type": "code",
   "execution_count": 2,
   "metadata": {},
   "outputs": [],
   "source": [
    "import pandas as pd\n",
    "df = pd.read_csv(\"Treatment.csv\")"
   ]
  },
  {
   "cell_type": "code",
   "execution_count": 3,
   "metadata": {},
   "outputs": [
    {
     "name": "stdout",
     "output_type": "stream",
     "text": [
      "[6150, 1030, 4620, 1040, 5140, 1050, 5150, 4130, 1060, 5160, 4140, 8620, 4150, 1080, 1340, 3140, 1095, 4820, 1117, 1118, 4320, 1137, 4340, 1141, 1015, 1144, 1020, 1022]\n"
     ]
    }
   ],
   "source": [
    "first_column_list = df.iloc[:, 0].tolist()\n",
    "unique_values = list(set(first_column_list))\n",
    "print(unique_values)"
   ]
  },
  {
   "cell_type": "code",
   "execution_count": null,
   "metadata": {},
   "outputs": [],
   "source": []
  }
 ],
 "metadata": {
  "kernelspec": {
   "display_name": "Python-mediapipe-0-10-9",
   "language": "python",
   "name": "python3"
  },
  "language_info": {
   "codemirror_mode": {
    "name": "ipython",
    "version": 3
   },
   "file_extension": ".py",
   "mimetype": "text/x-python",
   "name": "python",
   "nbconvert_exporter": "python",
   "pygments_lexer": "ipython3",
   "version": "3.12.4"
  }
 },
 "nbformat": 4,
 "nbformat_minor": 2
}
